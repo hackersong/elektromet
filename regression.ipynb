{
 "cells": [
  {
   "cell_type": "code",
   "execution_count": 223,
   "metadata": {
    "collapsed": false,
    "deletable": true,
    "editable": true
   },
   "outputs": [
    {
     "name": "stdout",
     "output_type": "stream",
     "text": [
      "Populating the interactive namespace from numpy and matplotlib\n"
     ]
    },
    {
     "name": "stderr",
     "output_type": "stream",
     "text": [
      "C:\\Users\\X9249367\\Anaconda3\\lib\\site-packages\\IPython\\core\\magics\\pylab.py:161: UserWarning: pylab import has clobbered these variables: ['axes', 'rate']\n",
      "`%matplotlib` prevents importing * from pylab and numpy\n",
      "  \"\\n`%matplotlib` prevents importing * from pylab and numpy\"\n"
     ]
    }
   ],
   "source": [
    "import csv\n",
    "import pandas as pd\n",
    "import matplotlib.pyplot as plt\n",
    "import numpy as np\n",
    "import scipy.stats as stats\n",
    "import seaborn as sns\n",
    "from matplotlib import rcParams\n",
    "import statsmodels.api as sm\n",
    "from statsmodels.formula.api import ols\n",
    "%matplotlib inline \n",
    "%pylab inline "
   ]
  },
  {
   "cell_type": "code",
   "execution_count": 224,
   "metadata": {
    "collapsed": true,
    "deletable": true,
    "editable": true
   },
   "outputs": [],
   "source": [
    "df = pd.read_csv(\"Clean/reports21data.csv\",sep = \";\",decimal = \".\",encoding = \"latin-1\")"
   ]
  },
  {
   "cell_type": "code",
   "execution_count": 225,
   "metadata": {
    "collapsed": false,
    "deletable": true,
    "editable": true
   },
   "outputs": [
    {
     "data": {
      "text/html": [
       "<div>\n",
       "<table border=\"1\" class=\"dataframe\">\n",
       "  <thead>\n",
       "    <tr style=\"text-align: right;\">\n",
       "      <th></th>\n",
       "      <th>DATE</th>\n",
       "      <th>TIME</th>\n",
       "      <th>LEFT CURRENT [A]</th>\n",
       "      <th>LEFT POWER [W]</th>\n",
       "      <th>LEFT RESISTANCE [Ohm]</th>\n",
       "      <th>LEFT VOLTAGE [V]</th>\n",
       "      <th>RIGHT CURRENT [A]</th>\n",
       "      <th>RIGHT POWER [W]</th>\n",
       "      <th>RIGHTRESISTANCE [Ohm]</th>\n",
       "      <th>RIGHT VOLTAGE [V]</th>\n",
       "      <th>WIRE FUNCTIONAL</th>\n",
       "      <th>CYCLE TIME[Sn]</th>\n",
       "    </tr>\n",
       "  </thead>\n",
       "  <tbody>\n",
       "    <tr>\n",
       "      <th>0</th>\n",
       "      <td>08.06.2017</td>\n",
       "      <td>10:37</td>\n",
       "      <td>27.53</td>\n",
       "      <td>415.42</td>\n",
       "      <td>0.55</td>\n",
       "      <td>15.09</td>\n",
       "      <td>28.31</td>\n",
       "      <td>426.03</td>\n",
       "      <td>0.53</td>\n",
       "      <td>15.05</td>\n",
       "      <td>OK</td>\n",
       "      <td>56</td>\n",
       "    </tr>\n",
       "    <tr>\n",
       "      <th>1</th>\n",
       "      <td>08.06.2017</td>\n",
       "      <td>10:38</td>\n",
       "      <td>27.82</td>\n",
       "      <td>419.76</td>\n",
       "      <td>0.54</td>\n",
       "      <td>15.09</td>\n",
       "      <td>28.74</td>\n",
       "      <td>432.54</td>\n",
       "      <td>0.52</td>\n",
       "      <td>15.05</td>\n",
       "      <td>DEFECT</td>\n",
       "      <td>56</td>\n",
       "    </tr>\n",
       "    <tr>\n",
       "      <th>2</th>\n",
       "      <td>08.06.2017</td>\n",
       "      <td>10:40</td>\n",
       "      <td>27.79</td>\n",
       "      <td>419.33</td>\n",
       "      <td>0.54</td>\n",
       "      <td>15.09</td>\n",
       "      <td>28.68</td>\n",
       "      <td>431.67</td>\n",
       "      <td>0.52</td>\n",
       "      <td>15.05</td>\n",
       "      <td>DEFECT</td>\n",
       "      <td>57</td>\n",
       "    </tr>\n",
       "    <tr>\n",
       "      <th>3</th>\n",
       "      <td>08.06.2017</td>\n",
       "      <td>10:42</td>\n",
       "      <td>27.73</td>\n",
       "      <td>418.46</td>\n",
       "      <td>0.54</td>\n",
       "      <td>15.09</td>\n",
       "      <td>28.63</td>\n",
       "      <td>430.80</td>\n",
       "      <td>0.53</td>\n",
       "      <td>15.05</td>\n",
       "      <td>DEFECT</td>\n",
       "      <td>57</td>\n",
       "    </tr>\n",
       "    <tr>\n",
       "      <th>4</th>\n",
       "      <td>08.06.2017</td>\n",
       "      <td>10:45</td>\n",
       "      <td>27.91</td>\n",
       "      <td>421.07</td>\n",
       "      <td>0.54</td>\n",
       "      <td>15.09</td>\n",
       "      <td>28.86</td>\n",
       "      <td>434.27</td>\n",
       "      <td>0.52</td>\n",
       "      <td>15.05</td>\n",
       "      <td>DEFECT</td>\n",
       "      <td>56</td>\n",
       "    </tr>\n",
       "  </tbody>\n",
       "</table>\n",
       "</div>"
      ],
      "text/plain": [
       "         DATE   TIME  LEFT CURRENT [A]  LEFT POWER [W]  LEFT RESISTANCE [Ohm]  \\\n",
       "0  08.06.2017  10:37             27.53          415.42                   0.55   \n",
       "1  08.06.2017  10:38             27.82          419.76                   0.54   \n",
       "2  08.06.2017  10:40             27.79          419.33                   0.54   \n",
       "3  08.06.2017  10:42             27.73          418.46                   0.54   \n",
       "4  08.06.2017  10:45             27.91          421.07                   0.54   \n",
       "\n",
       "   LEFT VOLTAGE [V]  RIGHT CURRENT [A]  RIGHT POWER [W]  \\\n",
       "0             15.09              28.31           426.03   \n",
       "1             15.09              28.74           432.54   \n",
       "2             15.09              28.68           431.67   \n",
       "3             15.09              28.63           430.80   \n",
       "4             15.09              28.86           434.27   \n",
       "\n",
       "   RIGHTRESISTANCE [Ohm]  RIGHT VOLTAGE [V] WIRE FUNCTIONAL  CYCLE TIME[Sn]  \n",
       "0                   0.53              15.05              OK              56  \n",
       "1                   0.52              15.05          DEFECT              56  \n",
       "2                   0.52              15.05          DEFECT              57  \n",
       "3                   0.53              15.05          DEFECT              57  \n",
       "4                   0.52              15.05          DEFECT              56  "
      ]
     },
     "execution_count": 225,
     "metadata": {},
     "output_type": "execute_result"
    }
   ],
   "source": [
    "df.head()"
   ]
  },
  {
   "cell_type": "markdown",
   "metadata": {
    "deletable": true,
    "editable": true
   },
   "source": [
    "> GRAPHICAL ANALYSIS"
   ]
  },
  {
   "cell_type": "code",
   "execution_count": 226,
   "metadata": {
    "collapsed": false,
    "deletable": true,
    "editable": true
   },
   "outputs": [
    {
     "data": {
      "image/png": "[encoded data removed]",
      "text/plain": [
       "<matplotlib.figure.Figure at 0xd43ce10>"
      ]
     },
     "metadata": {},
     "output_type": "display_data"
    }
   ],
   "source": [
    "fig = plt.figure(figsize=(12, 6))\n",
    "sqft = fig.add_subplot(121)\n",
    "cost = fig.add_subplot(122)\n",
    "\n",
    "sqft.hist(df['CYCLE TIME[Sn]'], bins=80)\n",
    "sqft.set_xlabel('Cycle time')\n",
    "sqft.set_title(\"Histogram of cycle time\")\n",
    "\n",
    "cost.hist(df['LEFT CURRENT [A]'], bins=80)\n",
    "cost.set_xlabel('left current')\n",
    "cost.set_title(\"Histogram of left power\")\n",
    "\n",
    "plt.show()"
   ]
  },
  {
   "cell_type": "markdown",
   "metadata": {
    "deletable": true,
    "editable": true
   },
   "source": [
    "> WE WILL TRY TO SEE IF THERE IS A LINEAR REGRESSION BETWEEN PAIR OF COLUMNS"
   ]
  },
  {
   "cell_type": "code",
   "execution_count": 227,
   "metadata": {
    "collapsed": false,
    "deletable": true,
    "editable": true
   },
   "outputs": [
    {
     "data": {
      "text/plain": [
       "<matplotlib.legend.Legend at 0xe69fda0>"
      ]
     },
     "execution_count": 227,
     "metadata": {},
     "output_type": "execute_result"
    },
    {
     "data": {
      "image/png": "[encoded data removed]",
      "text/plain": [
       "<matplotlib.figure.Figure at 0xe9e7400>"
      ]
     },
     "metadata": {},
     "output_type": "display_data"
    }
   ],
   "source": [
    "y = df['LEFT CURRENT [A]']\n",
    "x = df['RIGHTRESISTANCE [Ohm]']\n",
    "result=sm.OLS(y,x).fit()\n",
    "\n",
    "fig, ax = plt.subplots(figsize=(8,6))\n",
    "ax.plot(x, y, 'o', label=\"data\")\n",
    "ax.plot(x, result.fittedvalues, 'r--.', label=\"OLS\")\n",
    "ax.legend(loc='best')"
   ]
  },
  {
   "cell_type": "code",
   "execution_count": 228,
   "metadata": {
    "collapsed": false,
    "deletable": true,
    "editable": true
   },
   "outputs": [
    {
     "data": {
      "image/png": "[encoded data removed]",
      "text/plain": [
       "<matplotlib.figure.Figure at 0xca743c8>"
      ]
     },
     "metadata": {},
     "output_type": "display_data"
    }
   ],
   "source": [
    "sns.jointplot(x=\"LEFT CURRENT [A]\", y=\"RIGHTRESISTANCE [Ohm]\", data=df, kind = 'reg',fit_reg= True, size = 7)\n",
    "plt.show()"
   ]
  },
  {
   "cell_type": "markdown",
   "metadata": {
    "deletable": true,
    "editable": true
   },
   "source": [
    "> Result: if there is a relation it is not a linear relation"
   ]
  }
 ],
 "metadata": {
  "kernelspec": {
   "display_name": "Python 3",
   "language": "python",
   "name": "python3"
  },
  "language_info": {
   "codemirror_mode": {
    "name": "ipython",
    "version": 3
   },
   "file_extension": ".py",
   "mimetype": "text/x-python",
   "name": "python",
   "nbconvert_exporter": "python",
   "pygments_lexer": "ipython3",
   "version": "3.6.0"
  }
 },
 "nbformat": 4,
 "nbformat_minor": 2
}
